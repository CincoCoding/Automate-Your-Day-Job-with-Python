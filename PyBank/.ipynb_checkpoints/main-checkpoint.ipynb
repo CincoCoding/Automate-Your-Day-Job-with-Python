{
 "cells": [
  {
   "cell_type": "code",
   "execution_count": 1,
   "id": "494f706a-7d5e-434c-a873-d563fa27c5f1",
   "metadata": {},
   "outputs": [],
   "source": [
    "# import libraries / functions / etc...\n",
    "from pathlib import Path\n",
    "import csv\n",
    "import pandas as pd"
   ]
  },
  {
   "cell_type": "code",
   "execution_count": 2,
   "id": "920d8986-61af-4af1-a0ab-48d1773c06b0",
   "metadata": {},
   "outputs": [],
   "source": [
    "# declare variables\n",
    "total_months = 0\n",
    "total_PnL = 0\n",
    "temp = 0\n",
    "diff_dict = {}\n",
    "average_change = 0\n",
    "best_month = \"\"\n",
    "worst_month = \"\"\n",
    "best_month_amount = float(\"-inf\")\n",
    "worst_month_amount = float(\"inf\")"
   ]
  },
  {
   "cell_type": "code",
   "execution_count": 3,
   "id": "f385461f-be89-406c-8266-de4fbcc05bf2",
   "metadata": {},
   "outputs": [],
   "source": [
    "# read in CSV file & turn it into a dictionary\n",
    "csv_path = Path(\"budget_data.csv\")\n",
    "with open(csv_path, \"r\") as csv_file:\n",
    "    csv_reader = csv.reader(csv_file, delimiter = \",\")\n",
    "    header = next(csv_reader)\n",
    "    csv_dict = dict(csv_reader)\n",
    "    \n",
    "# calculate amounts from csv_dictionary and dictionary of differences\n",
    "    for i in csv_dict:\n",
    "        total_months += 1\n",
    "        total_PnL += int(csv_dict[i])\n",
    "        diff_dict[i] = (int(csv_dict[i]) - int(temp))\n",
    "        temp = csv_dict[i]\n",
    "    diff_dict[\"Jan-2010\"] = 0        \n",
    "\n",
    "# calculate average change, best month, worst month, & amounts\n",
    "    for j in diff_dict:\n",
    "        average_change += diff_dict[j]\n",
    "        if diff_dict[j] > best_month_amount:\n",
    "            best_month_amount = diff_dict[j]\n",
    "            best_month = j\n",
    "        elif diff_dict[j] < worst_month_amount:\n",
    "            worst_month_amount = diff_dict[j]\n",
    "            worst_month = j\n",
    "average_change = round(average_change / (len(diff_dict) -1), 2)"
   ]
  },
  {
   "cell_type": "code",
   "execution_count": 4,
   "id": "68676b4c-8124-43d0-a1d7-57a3511c8499",
   "metadata": {},
   "outputs": [],
   "source": [
    "#write results to a text tile\n",
    "text_path = Path(\"financial_detail.txt\")\n",
    "with open(text_path, \"w\") as text_file:\n",
    "    text_file.write(f\"\"\"    ----------------\n",
    "    Financial Detail  \n",
    "    ----------------\n",
    "    Total Months: {total_months}\n",
    "    Total Profit/Losses: ${total_PnL}\n",
    "    Average Month-over-Month Change: ${average_change}\n",
    "    Greatest Increase in Profits Month-over-Month: {best_month}: ${best_month_amount}\n",
    "    Greatest Decrease in Profits Month-over-Month: {worst_month}: ${worst_month_amount}\"\"\")"
   ]
  },
  {
   "cell_type": "code",
   "execution_count": 5,
   "id": "2927b917-607b-486f-bddc-8482ae1e16cc",
   "metadata": {},
   "outputs": [
    {
     "name": "stdout",
     "output_type": "stream",
     "text": [
      "Financial Detail\n",
      "----------------\n",
      "Total Months: 86\n",
      "Total Profit/Losses: 38382578\n",
      "Average Month-over-Month Change: -2315.12\n",
      "Greatest Increase in Profits Month-over-Month: Feb-2012: $1926159\n",
      "Greatest Decrease in Profits Month-over-Month: Sep-2013: $-2196167\n"
     ]
    }
   ],
   "source": [
    "#print to terminal\n",
    "print(\"Financial Detail\")\n",
    "print(\"----------------\")\n",
    "print(f\"Total Months: {total_months}\")\n",
    "print(f\"Total Profit/Losses: {total_PnL}\")\n",
    "print(f\"Average Month-over-Month Change: {average_change}\")\n",
    "print(f\"Greatest Increase in Profits Month-over-Month: {best_month}: ${best_month_amount}\")\n",
    "print(f\"Greatest Decrease in Profits Month-over-Month: {worst_month}: ${worst_month_amount}\")"
   ]
  },
  {
   "cell_type": "code",
   "execution_count": null,
   "id": "4869fd50-5b1b-4caa-a1b1-065f20fc1e0b",
   "metadata": {},
   "outputs": [],
   "source": []
  },
  {
   "cell_type": "code",
   "execution_count": null,
   "id": "aaacd002-4004-4670-85b0-5a0719b23e6a",
   "metadata": {},
   "outputs": [],
   "source": []
  }
 ],
 "metadata": {
  "kernelspec": {
   "display_name": "Python 3 (ipykernel)",
   "language": "python",
   "name": "python3"
  },
  "language_info": {
   "codemirror_mode": {
    "name": "ipython",
    "version": 3
   },
   "file_extension": ".py",
   "mimetype": "text/x-python",
   "name": "python",
   "nbconvert_exporter": "python",
   "pygments_lexer": "ipython3",
   "version": "3.7.13"
  }
 },
 "nbformat": 4,
 "nbformat_minor": 5
}
