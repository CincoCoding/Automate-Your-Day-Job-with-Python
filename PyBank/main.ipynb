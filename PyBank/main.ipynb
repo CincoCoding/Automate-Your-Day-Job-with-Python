{
 "cells": [
  {
   "cell_type": "code",
   "execution_count": 1,
   "id": "6be08b37-5d82-4d4f-bc1a-0073139d7418",
   "metadata": {},
   "outputs": [],
   "source": [
    "# this program reads in a CSV of budget data and outputs a financial detail"
   ]
  },
  {
   "cell_type": "code",
   "execution_count": 2,
   "id": "6c4f813e-9aa4-4ab0-9d77-66011bbb6b14",
   "metadata": {},
   "outputs": [],
   "source": [
    "# import libraries / functions / etc...\n",
    "from pathlib import Path\n",
    "import csv\n",
    "import pandas as pd"
   ]
  },
  {
   "cell_type": "code",
   "execution_count": 3,
   "id": "920d8986-61af-4af1-a0ab-48d1773c06b0",
   "metadata": {},
   "outputs": [],
   "source": [
    "# declare variables\n",
    "total_months = 0\n",
    "total_pnl = 0\n",
    "temp = 0\n",
    "diff_dict = {}\n",
    "average_change = 0\n",
    "best_month = \"\"\n",
    "worst_month = \"\"\n",
    "best_month_amount = float(\"-inf\")\n",
    "worst_month_amount = float(\"inf\")"
   ]
  },
  {
   "cell_type": "code",
   "execution_count": 4,
   "id": "2258453f-08e2-43f6-9b43-03fd6a84ae1f",
   "metadata": {},
   "outputs": [
    {
     "name": "stdout",
     "output_type": "stream",
     "text": [
      "{'Jan-2010': '867884', 'Feb-2010': '984655', 'Mar-2010': '322013', 'Apr-2010': '-69417', 'May-2010': '310503', 'Jun-2010': '522857', 'Jul-2010': '1033096', 'Aug-2010': '604885', 'Sep-2010': '-216386', 'Oct-2010': '477532', 'Nov-2010': '893810', 'Dec-2010': '-80353', 'Jan-2011': '779806', 'Feb-2011': '-335203', 'Mar-2011': '697845', 'Apr-2011': '793163', 'May-2011': '485070', 'Jun-2011': '584122', 'Jul-2011': '62729', 'Aug-2011': '668179', 'Sep-2011': '899906', 'Oct-2011': '834719', 'Nov-2011': '132003', 'Dec-2011': '309978', 'Jan-2012': '-755566', 'Feb-2012': '1170593', 'Mar-2012': '252788', 'Apr-2012': '1151518', 'May-2012': '817256', 'Jun-2012': '570757', 'Jul-2012': '506702', 'Aug-2012': '-1022534', 'Sep-2012': '475062', 'Oct-2012': '779976', 'Nov-2012': '144175', 'Dec-2012': '542494', 'Jan-2013': '359333', 'Feb-2013': '321469', 'Mar-2013': '67780', 'Apr-2013': '471435', 'May-2013': '565603', 'Jun-2013': '872480', 'Jul-2013': '789480', 'Aug-2013': '999942', 'Sep-2013': '-1196225', 'Oct-2013': '268997', 'Nov-2013': '-687986', 'Dec-2013': '1150461', 'Jan-2014': '682458', 'Feb-2014': '617856', 'Mar-2014': '824098', 'Apr-2014': '581943', 'May-2014': '132864', 'Jun-2014': '448062', 'Jul-2014': '689161', 'Aug-2014': '800701', 'Sep-2014': '1166643', 'Oct-2014': '947333', 'Nov-2014': '578668', 'Dec-2014': '988505', 'Jan-2015': '1139715', 'Feb-2015': '1029471', 'Mar-2015': '687533', 'Apr-2015': '-524626', 'May-2015': '158620', 'Jun-2015': '87795', 'Jul-2015': '423389', 'Aug-2015': '840723', 'Sep-2015': '568529', 'Oct-2015': '332067', 'Nov-2015': '989499', 'Dec-2015': '778237', 'Jan-2016': '650000', 'Feb-2016': '-1100387', 'Mar-2016': '-174946', 'Apr-2016': '757143', 'May-2016': '445709', 'Jun-2016': '712961', 'Jul-2016': '-1163797', 'Aug-2016': '569899', 'Sep-2016': '768450', 'Oct-2016': '102685', 'Nov-2016': '795914', 'Dec-2016': '60988', 'Jan-2017': '138230', 'Feb-2017': '671099'}\n"
     ]
    }
   ],
   "source": [
    "# read in CSV file & turn it into a dictionary\n",
    "csv_path = Path(\"budget_data.csv\")\n",
    "with open(csv_path, \"r\") as csv_file:\n",
    "    csv_reader = csv.reader(csv_file, delimiter = \",\")\n",
    "    header = next(csv_reader)\n",
    "    csv_dict = dict(csv_reader)\n",
    "    print(csv_dict)"
   ]
  },
  {
   "cell_type": "code",
   "execution_count": 3,
   "id": "1ce99a0a-f9c6-4187-849c-9bdc27a6637a",
   "metadata": {},
   "outputs": [],
   "source": []
  },
  {
   "cell_type": "code",
   "execution_count": 3,
   "id": "7b288124-ad9b-4d39-acfc-c89aa1b1bcb4",
   "metadata": {},
   "outputs": [],
   "source": [
    "# calculate amounts from csv_dictionary\n",
    "    for i in csv_dict:\n",
    "        total_months += 1\n",
    "        total_pnl += int(csv_dict[i])\n",
    "        # create a dictionary of differences\n",
    "        diff_dict[i] = (int(csv_dict[i]) - int(temp))\n",
    "        temp = csv_dict[i]\n",
    "    diff_dict[\"Jan-2010\"] = 0        \n",
    "\n",
    "# calculate average change, best month, worst month, & amounts\n",
    "    for j in diff_dict:\n",
    "        average_change += diff_dict[j]\n",
    "        if diff_dict[j] > best_month_amount:\n",
    "            best_month = j\n",
    "            best_month_amount = diff_dict[j]\n",
    "        elif diff_dict[j] < worst_month_amount:\n",
    "            worst_month = j\n",
    "            worst_month_amount = diff_dict[j]\n",
    "average_change = round(average_change / (len(diff_dict) -1), 2)"
   ]
  },
  {
   "cell_type": "code",
   "execution_count": 4,
   "id": "68676b4c-8124-43d0-a1d7-57a3511c8499",
   "metadata": {},
   "outputs": [],
   "source": [
    "#write results to a text tile\n",
    "text_path = Path(\"financial_detail.txt\")\n",
    "with open(text_path, \"w\") as text_file:\n",
    "    text_file.write(f\"\"\"    ****************\n",
    "    Financial Detail  \n",
    "    ****************\n",
    "    Total Months: {total_months}\n",
    "    Total Profit/Losses: ${total_pnl}\n",
    "    Average Month-over-Month Change: ${average_change}\n",
    "    Greatest Increase in Profits Month-over-Month: {best_month}: ${best_month_amount}\n",
    "    Greatest Decrease in Profits Month-over-Month: {worst_month}: ${worst_month_amount}\"\"\")"
   ]
  },
  {
   "cell_type": "code",
   "execution_count": 5,
   "id": "2927b917-607b-486f-bddc-8482ae1e16cc",
   "metadata": {},
   "outputs": [
    {
     "name": "stdout",
     "output_type": "stream",
     "text": [
      "****************\n",
      "Financial Detail\n",
      "****************\n",
      "Total Months: 86\n",
      "Total Profit/Losses: 38382578\n",
      "Average Month-over-Month Change: -2315.12\n",
      "Greatest Increase in Profits Month-over-Month: Feb-2012: $1926159\n",
      "Greatest Decrease in Profits Month-over-Month: Sep-2013: $-2196167\n"
     ]
    }
   ],
   "source": [
    "#print to terminal\n",
    "print(f\"\"\"****************\n",
    "Financial Detail\n",
    "****************\n",
    "Total Months: {total_months}\n",
    "Total Profit/Losses: {total_pnl}\n",
    "Average Month-over-Month Change: {average_change}\n",
    "Greatest Increase in Profits Month-over-Month: {best_month}: ${best_month_amount}\n",
    "Greatest Decrease in Profits Month-over-Month: {worst_month}: ${worst_month_amount}\"\"\")"
   ]
  },
  {
   "cell_type": "code",
   "execution_count": null,
   "id": "4869fd50-5b1b-4caa-a1b1-065f20fc1e0b",
   "metadata": {},
   "outputs": [],
   "source": []
  },
  {
   "cell_type": "code",
   "execution_count": null,
   "id": "aaacd002-4004-4670-85b0-5a0719b23e6a",
   "metadata": {},
   "outputs": [],
   "source": []
  }
 ],
 "metadata": {
  "kernelspec": {
   "display_name": "Python 3 (ipykernel)",
   "language": "python",
   "name": "python3"
  },
  "language_info": {
   "codemirror_mode": {
    "name": "ipython",
    "version": 3
   },
   "file_extension": ".py",
   "mimetype": "text/x-python",
   "name": "python",
   "nbconvert_exporter": "python",
   "pygments_lexer": "ipython3",
   "version": "3.7.13"
  }
 },
 "nbformat": 4,
 "nbformat_minor": 5
}
